{
 "cells": [
  {
   "cell_type": "code",
   "execution_count": 1,
   "metadata": {},
   "outputs": [
    {
     "name": "stdout",
     "output_type": "stream",
     "text": [
      "Hola\n"
     ]
    }
   ],
   "source": [
    "print(\"Hola\")"
   ]
  },
  {
   "cell_type": "code",
   "execution_count": 4,
   "metadata": {},
   "outputs": [
    {
     "name": "stdout",
     "output_type": "stream",
     "text": [
      "mi resultado es:\n",
      "6\n"
     ]
    }
   ],
   "source": [
    "saludo = 'mi resultado es:'\n",
    "print(saludo)\n",
    "mult = 2*3\n",
    "print(mult)"
   ]
  },
  {
   "cell_type": "code",
   "execution_count": 16,
   "metadata": {},
   "outputs": [
    {
     "name": "stdout",
     "output_type": "stream",
     "text": [
      "0\n",
      "1\n",
      "2\n",
      "3\n",
      "resultado: 6\n"
     ]
    }
   ],
   "source": [
    "suma = 0\n",
    "for i in range (0,4):\n",
    "    print(i)\n",
    "    suma += i\n",
    "    \n",
    "print('resultado:', suma)\n",
    "\n",
    "\n"
   ]
  },
  {
   "cell_type": "code",
   "execution_count": 18,
   "metadata": {},
   "outputs": [
    {
     "name": "stdout",
     "output_type": "stream",
     "text": [
      "0\n",
      "1\n",
      "2\n",
      "4\n"
     ]
    }
   ],
   "source": [
    "a = 0\n",
    "b = 1\n",
    "\n",
    "fibo = 0\n",
    "aux = 0\n",
    "\n",
    "fin = 0\n",
    "n=5\n",
    "n1,n2=1,2\n",
    "\n",
    "while n1<n:\n",
    "    print (a)\n",
    "    aux = a\n",
    "    b = aux + b\n",
    "\n",
    "    a = b\n",
    "    n1+=1\n",
    "\n",
    "    "
   ]
  },
  {
   "cell_type": "code",
   "execution_count": 21,
   "metadata": {},
   "outputs": [
    {
     "name": "stdout",
     "output_type": "stream",
     "text": [
      "Hola\n",
      "juju\n"
     ]
    }
   ],
   "source": [
    "print(\"Hola\")\n",
    "n = input(\"introduzca un nombre\")\n",
    "print(n)"
   ]
  },
  {
   "cell_type": "markdown",
   "metadata": {},
   "source": [
    "Realizar un Ejercicio que calcule el area y perimetro de cualquier figura con entrada de datos"
   ]
  },
  {
   "cell_type": "code",
   "execution_count": 31,
   "metadata": {},
   "outputs": [
    {
     "name": "stdout",
     "output_type": "stream",
     "text": [
      "El area del cuadrado es: 4.0\n",
      "El permetro del cuadrado es: 8.0\n"
     ]
    }
   ],
   "source": [
    "lado = float(input(\"Ingrese la longitud del lado del cuadrado: \"))\n",
    "\n",
    "area = lado * lado\n",
    "\n",
    "perimetro = 4 * lado\n",
    "\n",
    "print(\"El area del cuadrado es:\", area)\n",
    "print(\"El permetro del cuadrado es:\", perimetro)"
   ]
  },
  {
   "cell_type": "code",
   "execution_count": 35,
   "metadata": {},
   "outputs": [
    {
     "name": "stdout",
     "output_type": "stream",
     "text": [
      "o o o o o \n"
     ]
    }
   ],
   "source": [
    "palabra = input(\"Introduzca una palabra: \")\n",
    "rep = int(input(\"Introduzca un numero: \"))\n",
    "\n",
    "print((palabra+\" \")*rep)\n",
    "#for i in range(0,rep):\n",
    "    #print(palabra)"
   ]
  },
  {
   "cell_type": "markdown",
   "metadata": {},
   "source": [
    "Realizar codigo en python que permita instroducir palabra por teclado indentifique sus vocales y las convierta en mayuscula"
   ]
  },
  {
   "cell_type": "code",
   "execution_count": 39,
   "metadata": {},
   "outputs": [
    {
     "name": "stdout",
     "output_type": "stream",
     "text": [
      "H\n",
      "o\n",
      "l\n",
      "a\n",
      " \n",
      "C\n",
      "O\n",
      "M\n",
      "O\n",
      " \n",
      "e\n",
      "s\n",
      "t\n",
      "a\n",
      "s\n",
      " \n",
      "HOLA COMO ESTAS \n"
     ]
    }
   ],
   "source": [
    "palabra = input(\"Introduzca la palabra\")\n",
    "for char in palabra:\n",
    "    print(char)\n",
    "    \n",
    "\n",
    "convertido = palabra.upper()\n",
    "print(convertido)"
   ]
  }
 ],
 "metadata": {
  "kernelspec": {
   "display_name": "env-PrimerEntorno",
   "language": "python",
   "name": "python3"
  },
  "language_info": {
   "codemirror_mode": {
    "name": "ipython",
    "version": 3
   },
   "file_extension": ".py",
   "mimetype": "text/x-python",
   "name": "python",
   "nbconvert_exporter": "python",
   "pygments_lexer": "ipython3",
   "version": "3.12.1"
  }
 },
 "nbformat": 4,
 "nbformat_minor": 2
}
