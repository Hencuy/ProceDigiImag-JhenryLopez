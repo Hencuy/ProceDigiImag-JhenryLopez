{
 "cells": [
  {
   "cell_type": "markdown",
   "metadata": {},
   "source": [
    "4.- Desarrolle una aplicación que permita identificar si una cadena introducida por teclado es \n",
    "un palíndromo ( oso es palíndromo )"
   ]
  },
  {
   "cell_type": "code",
   "execution_count": 2,
   "metadata": {},
   "outputs": [
    {
     "name": "stdout",
     "output_type": "stream",
     "text": [
      "jdfkd\n"
     ]
    }
   ],
   "source": [
    "cadena = input(\"Introduzca una palabra\")\n",
    "print(cadena)\n",
    "\n",
    "\n",
    "\n"
   ]
  },
  {
   "cell_type": "markdown",
   "metadata": {},
   "source": [
    "1.- Desarrolle una aplicación que calcule el factorial de un numero entero introducido por \n",
    "teclado "
   ]
  },
  {
   "cell_type": "code",
   "execution_count": 13,
   "metadata": {},
   "outputs": [
    {
     "name": "stdout",
     "output_type": "stream",
     "text": [
      "El factorial de  0 es: \n",
      "1\n"
     ]
    }
   ],
   "source": [
    "numero = int(input(\"Introduzca un numero: \"))\n",
    "print(\"El factorial de \",numero,\"es: \")\n",
    "factorial = 1\n",
    "\n",
    "for i in range (1,numero+1):\n",
    "    factorial = factorial * i\n",
    "\n",
    "print(factorial)"
   ]
  },
  {
   "cell_type": "markdown",
   "metadata": {},
   "source": [
    "2.- Desarrolle una aplicación que determine si un numero introducido por teclado es primo o \n",
    "no"
   ]
  },
  {
   "cell_type": "code",
   "execution_count": 30,
   "metadata": {},
   "outputs": [
    {
     "name": "stdout",
     "output_type": "stream",
     "text": [
      "El numero es primo\n"
     ]
    }
   ],
   "source": [
    "numero= int(input(\"Introduzca un numero: \"))\n",
    "\n",
    "verifi = 0\n",
    "\n",
    "for i in range(2,numero):\n",
    "  \n",
    "  if numero % i == 0:\n",
    "    verifi +=1\n",
    "\n",
    "\n",
    "if verifi > 0 :\n",
    "  print(\"El numero no es primo\" )\n",
    "else:\n",
    "  print(\"El numero es primo\")\n"
   ]
  },
  {
   "cell_type": "markdown",
   "metadata": {},
   "source": [
    "5.- desarrolle una aplicación que permita introducir 7 números por teclado y determine cual de \n",
    "ellos se repite más veces y cuantas."
   ]
  },
  {
   "cell_type": "code",
   "execution_count": 41,
   "metadata": {},
   "outputs": [
    {
     "name": "stdout",
     "output_type": "stream",
     "text": [
      "El numero mayor es: 5\n",
      "El numero mayor es: 0\n"
     ]
    }
   ],
   "source": [
    "rango = int(input(\"Introduzca un rango: \"))\n",
    "aux = 0\n",
    "aux2 = 0\n",
    "\n",
    "\n",
    "for i in range(1,rango+1):\n",
    "    num = int(input(\"Introduza un numero: \"))\n",
    "    if num>aux:\n",
    "        aux = num\n",
    "    if num<aux2:\n",
    "        aux2 = num\n",
    "\n",
    "print(\"El numero mayor es:\",aux)\n",
    "print(\"El numero menor es:\",aux2)"
   ]
  }
 ],
 "metadata": {
  "kernelspec": {
   "display_name": "env-PrimerEntorno",
   "language": "python",
   "name": "python3"
  },
  "language_info": {
   "codemirror_mode": {
    "name": "ipython",
    "version": 3
   },
   "file_extension": ".py",
   "mimetype": "text/x-python",
   "name": "python",
   "nbconvert_exporter": "python",
   "pygments_lexer": "ipython3",
   "version": "3.12.1"
  }
 },
 "nbformat": 4,
 "nbformat_minor": 2
}
